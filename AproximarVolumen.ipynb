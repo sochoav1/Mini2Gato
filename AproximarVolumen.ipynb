{
 "cells": [
  {
   "cell_type": "code",
   "execution_count": 3,
   "metadata": {},
   "outputs": [
    {
     "name": "stdout",
     "output_type": "stream",
     "text": [
      "[[51801 51802 51800]\n",
      " [51801 51803 51802]\n",
      " [51801 51804 51803]\n",
      " [51801 51800 51804]\n",
      " [51818 51819 51817]]\n",
      "[[111.21715307 110.04766654 110.03262091]\n",
      " [111.21715307 110.04766654 110.03262091]\n",
      " [111.21715307 110.04766654 110.03262091]]\n",
      "39420.434728831926 cm²\n"
     ]
    }
   ],
   "source": [
    "### Codigo de lectura de mallas con meshio\n",
    "import numpy as np\n",
    "import meshio\n",
    "mesh = meshio.read(\"gato.obj\")\n",
    "points = mesh.points\n",
    "tris = []\n",
    "quads = []\n",
    "for cells in mesh.cells:\n",
    "    if cells.type == 'triangle':\n",
    "        tris.extend( cells.data )\n",
    "    elif cells.type == 'quad':\n",
    "        quads.extend( cells.data )\n",
    "    else:\n",
    "        raise Exception(\"Elemento err´oneo\")\n",
    "\n",
    "t=0\n",
    "for i in quads:\n",
    "    a = quads[t][0]\n",
    "    b = quads[t][1]\n",
    "    c = quads[t][2]\n",
    "    d = quads[t][3]\n",
    "    triangle = [a , b, c]\n",
    "    triangle1 = [c, d, a]\n",
    "    tris.append(triangle)\n",
    "    t = t + 1\n",
    "\n",
    "tris = np.array(tris)\n",
    "print(tris[0:5])\n",
    "tris.shape\n",
    "\n",
    "area = np.array([points[tris[0],[1]]-points[tris[0],[0]],points[tris[0],[1]]-points[tris[0],[0]],points[tris[0],[1]]-points[tris[0],[0]]])\n",
    "det = np.linalg.det(area)\n",
    "A = area/2\n",
    "print(A)\n",
    "\n",
    "# Ahora definimos una función para cualquier Triangulo\n",
    "def volp(p0,p1,p2):\n",
    "    v1 = p1 - p0\n",
    "    v2 = p2 - p0\n",
    "    v_cross = np.cross(v1, v2)\n",
    "    area = np.linalg.norm(v_cross)/2\n",
    "    return area\n",
    "\n",
    "#Ahora sumamos todos los triangulos para Calcular el area superficial \n",
    "A = 0\n",
    "for i in range(tris.shape[0]):\n",
    "    triangulo = tris[i]\n",
    "    p0 = points[triangulo[0]]\n",
    "    p1 = points[triangulo[1]]\n",
    "    p2 = points[triangulo[2]]\n",
    "    A = A + volp(p0,p1,p2)\n",
    "print(A, \"cm\\xb2\")"
   ]
  }
 ],
 "metadata": {
  "kernelspec": {
   "display_name": "Python 3",
   "language": "python",
   "name": "python3"
  },
  "language_info": {
   "codemirror_mode": {
    "name": "ipython",
    "version": 3
   },
   "file_extension": ".py",
   "mimetype": "text/x-python",
   "name": "python",
   "nbconvert_exporter": "python",
   "pygments_lexer": "ipython3",
   "version": "3.11.0"
  },
  "orig_nbformat": 4,
  "vscode": {
   "interpreter": {
    "hash": "c261aea317cc0286b3b3261fbba9abdec21eaa57589985bb7a274bf54d6cc0a7"
   }
  }
 },
 "nbformat": 4,
 "nbformat_minor": 2
}
